{
 "cells": [
  {
   "cell_type": "code",
   "execution_count": 129,
   "outputs": [],
   "source": [
    "import pandas as pd\n",
    "from imblearn.over_sampling import SMOTE\n",
    "from sklearn.preprocessing import MinMaxScaler\n",
    "from collections import Counter\n",
    "from sklearn.preprocessing import LabelEncoder\n",
    "import seaborn as sns\n",
    "import matplotlib.pyplot as plt\n",
    "from keras import Sequential\n",
    "from keras.layers import Dense\n",
    "from sklearn.model_selection import train_test_split\n",
    "import joblib\n",
    "from tensorflow.python.keras import activations"
   ],
   "metadata": {
    "collapsed": false,
    "pycharm": {
     "name": "#%%\n"
    }
   }
  },
  {
   "cell_type": "code",
   "execution_count": 130,
   "outputs": [
    {
     "data": {
      "text/plain": "Counter({'N': 148, 'Y': 332})"
     },
     "execution_count": 130,
     "metadata": {},
     "output_type": "execute_result"
    }
   ],
   "source": [
    "df=pd.read_csv('bankloan.csv')\n",
    "df=df.dropna() # Drop the rows where at least one element is missing.\n",
    "df.isna().any() # Checks if there is still any row with one element missing or more\n",
    "df=df.drop('Loan_ID',axis=1) # drop column Loan_ID cuz we dont need it for prediction\n",
    "df['LoanAmount']=(df['LoanAmount']*1000).astype(int) # transform amount in dollar\n",
    "Counter(df['Loan_Status']) # check if our dataset is balanced (class 'Y' and class 'N' are so close) or not if not we use sampling methods like\n",
    "# over-sampling or under-sampling we used here over-sampling method called smote"
   ],
   "metadata": {
    "collapsed": false,
    "pycharm": {
     "name": "#%%\n"
    }
   }
  },
  {
   "cell_type": "code",
   "execution_count": 131,
   "outputs": [
    {
     "data": {
      "text/plain": "     Dependents  ApplicantIncome  CoapplicantIncome  LoanAmount   \n1           1.0             4583             1508.0      128000  \\\n2           0.0             3000                0.0       66000   \n3           0.0             2583             2358.0      120000   \n4           0.0             6000                0.0      141000   \n5           2.0             5417             4196.0      267000   \n..          ...              ...                ...         ...   \n609         0.0             2900                0.0       71000   \n610         3.0             4106                0.0       40000   \n611         1.0             8072              240.0      253000   \n612         2.0             7583                0.0      187000   \n613         0.0             4583                0.0      133000   \n\n     Loan_Amount_Term  Credit_History  Gender_Female  Gender_Male  Married_No   \n1               360.0             1.0          False         True       False  \\\n2               360.0             1.0          False         True       False   \n3               360.0             1.0          False         True       False   \n4               360.0             1.0          False         True        True   \n5               360.0             1.0          False         True       False   \n..                ...             ...            ...          ...         ...   \n609             360.0             1.0           True        False        True   \n610             180.0             1.0          False         True       False   \n611             360.0             1.0          False         True       False   \n612             360.0             1.0          False         True       False   \n613             360.0             0.0           True        False        True   \n\n     Married_Yes  Education_Graduate  Education_Not Graduate   \n1           True                True                   False  \\\n2           True                True                   False   \n3           True               False                    True   \n4          False                True                   False   \n5           True                True                   False   \n..           ...                 ...                     ...   \n609        False                True                   False   \n610         True                True                   False   \n611         True                True                   False   \n612         True                True                   False   \n613        False                True                   False   \n\n     Self_Employed_No  Self_Employed_Yes  Property_Area_Rural   \n1                True              False                 True  \\\n2               False               True                False   \n3                True              False                False   \n4                True              False                False   \n5               False               True                False   \n..                ...                ...                  ...   \n609              True              False                 True   \n610              True              False                 True   \n611              True              False                False   \n612              True              False                False   \n613             False               True                False   \n\n     Property_Area_Semiurban  Property_Area_Urban  \n1                      False                False  \n2                      False                 True  \n3                      False                 True  \n4                      False                 True  \n5                      False                 True  \n..                       ...                  ...  \n609                    False                False  \n610                    False                False  \n611                    False                 True  \n612                    False                 True  \n613                     True                False  \n\n[480 rows x 17 columns]",
      "text/html": "<div>\n<style scoped>\n    .dataframe tbody tr th:only-of-type {\n        vertical-align: middle;\n    }\n\n    .dataframe tbody tr th {\n        vertical-align: top;\n    }\n\n    .dataframe thead th {\n        text-align: right;\n    }\n</style>\n<table border=\"1\" class=\"dataframe\">\n  <thead>\n    <tr style=\"text-align: right;\">\n      <th></th>\n      <th>Dependents</th>\n      <th>ApplicantIncome</th>\n      <th>CoapplicantIncome</th>\n      <th>LoanAmount</th>\n      <th>Loan_Amount_Term</th>\n      <th>Credit_History</th>\n      <th>Gender_Female</th>\n      <th>Gender_Male</th>\n      <th>Married_No</th>\n      <th>Married_Yes</th>\n      <th>Education_Graduate</th>\n      <th>Education_Not Graduate</th>\n      <th>Self_Employed_No</th>\n      <th>Self_Employed_Yes</th>\n      <th>Property_Area_Rural</th>\n      <th>Property_Area_Semiurban</th>\n      <th>Property_Area_Urban</th>\n    </tr>\n  </thead>\n  <tbody>\n    <tr>\n      <th>1</th>\n      <td>1.0</td>\n      <td>4583</td>\n      <td>1508.0</td>\n      <td>128000</td>\n      <td>360.0</td>\n      <td>1.0</td>\n      <td>False</td>\n      <td>True</td>\n      <td>False</td>\n      <td>True</td>\n      <td>True</td>\n      <td>False</td>\n      <td>True</td>\n      <td>False</td>\n      <td>True</td>\n      <td>False</td>\n      <td>False</td>\n    </tr>\n    <tr>\n      <th>2</th>\n      <td>0.0</td>\n      <td>3000</td>\n      <td>0.0</td>\n      <td>66000</td>\n      <td>360.0</td>\n      <td>1.0</td>\n      <td>False</td>\n      <td>True</td>\n      <td>False</td>\n      <td>True</td>\n      <td>True</td>\n      <td>False</td>\n      <td>False</td>\n      <td>True</td>\n      <td>False</td>\n      <td>False</td>\n      <td>True</td>\n    </tr>\n    <tr>\n      <th>3</th>\n      <td>0.0</td>\n      <td>2583</td>\n      <td>2358.0</td>\n      <td>120000</td>\n      <td>360.0</td>\n      <td>1.0</td>\n      <td>False</td>\n      <td>True</td>\n      <td>False</td>\n      <td>True</td>\n      <td>False</td>\n      <td>True</td>\n      <td>True</td>\n      <td>False</td>\n      <td>False</td>\n      <td>False</td>\n      <td>True</td>\n    </tr>\n    <tr>\n      <th>4</th>\n      <td>0.0</td>\n      <td>6000</td>\n      <td>0.0</td>\n      <td>141000</td>\n      <td>360.0</td>\n      <td>1.0</td>\n      <td>False</td>\n      <td>True</td>\n      <td>True</td>\n      <td>False</td>\n      <td>True</td>\n      <td>False</td>\n      <td>True</td>\n      <td>False</td>\n      <td>False</td>\n      <td>False</td>\n      <td>True</td>\n    </tr>\n    <tr>\n      <th>5</th>\n      <td>2.0</td>\n      <td>5417</td>\n      <td>4196.0</td>\n      <td>267000</td>\n      <td>360.0</td>\n      <td>1.0</td>\n      <td>False</td>\n      <td>True</td>\n      <td>False</td>\n      <td>True</td>\n      <td>True</td>\n      <td>False</td>\n      <td>False</td>\n      <td>True</td>\n      <td>False</td>\n      <td>False</td>\n      <td>True</td>\n    </tr>\n    <tr>\n      <th>...</th>\n      <td>...</td>\n      <td>...</td>\n      <td>...</td>\n      <td>...</td>\n      <td>...</td>\n      <td>...</td>\n      <td>...</td>\n      <td>...</td>\n      <td>...</td>\n      <td>...</td>\n      <td>...</td>\n      <td>...</td>\n      <td>...</td>\n      <td>...</td>\n      <td>...</td>\n      <td>...</td>\n      <td>...</td>\n    </tr>\n    <tr>\n      <th>609</th>\n      <td>0.0</td>\n      <td>2900</td>\n      <td>0.0</td>\n      <td>71000</td>\n      <td>360.0</td>\n      <td>1.0</td>\n      <td>True</td>\n      <td>False</td>\n      <td>True</td>\n      <td>False</td>\n      <td>True</td>\n      <td>False</td>\n      <td>True</td>\n      <td>False</td>\n      <td>True</td>\n      <td>False</td>\n      <td>False</td>\n    </tr>\n    <tr>\n      <th>610</th>\n      <td>3.0</td>\n      <td>4106</td>\n      <td>0.0</td>\n      <td>40000</td>\n      <td>180.0</td>\n      <td>1.0</td>\n      <td>False</td>\n      <td>True</td>\n      <td>False</td>\n      <td>True</td>\n      <td>True</td>\n      <td>False</td>\n      <td>True</td>\n      <td>False</td>\n      <td>True</td>\n      <td>False</td>\n      <td>False</td>\n    </tr>\n    <tr>\n      <th>611</th>\n      <td>1.0</td>\n      <td>8072</td>\n      <td>240.0</td>\n      <td>253000</td>\n      <td>360.0</td>\n      <td>1.0</td>\n      <td>False</td>\n      <td>True</td>\n      <td>False</td>\n      <td>True</td>\n      <td>True</td>\n      <td>False</td>\n      <td>True</td>\n      <td>False</td>\n      <td>False</td>\n      <td>False</td>\n      <td>True</td>\n    </tr>\n    <tr>\n      <th>612</th>\n      <td>2.0</td>\n      <td>7583</td>\n      <td>0.0</td>\n      <td>187000</td>\n      <td>360.0</td>\n      <td>1.0</td>\n      <td>False</td>\n      <td>True</td>\n      <td>False</td>\n      <td>True</td>\n      <td>True</td>\n      <td>False</td>\n      <td>True</td>\n      <td>False</td>\n      <td>False</td>\n      <td>False</td>\n      <td>True</td>\n    </tr>\n    <tr>\n      <th>613</th>\n      <td>0.0</td>\n      <td>4583</td>\n      <td>0.0</td>\n      <td>133000</td>\n      <td>360.0</td>\n      <td>0.0</td>\n      <td>True</td>\n      <td>False</td>\n      <td>True</td>\n      <td>False</td>\n      <td>True</td>\n      <td>False</td>\n      <td>False</td>\n      <td>True</td>\n      <td>False</td>\n      <td>True</td>\n      <td>False</td>\n    </tr>\n  </tbody>\n</table>\n<p>480 rows × 17 columns</p>\n</div>"
     },
     "execution_count": 131,
     "metadata": {},
     "output_type": "execute_result"
    }
   ],
   "source": [
    "pre_y=df.loc[: ,'Loan_Status']\n",
    "pre_x=df.drop('Loan_Status',axis=1)\n",
    "dm_x=pd.get_dummies(pre_x) # encode the features that are not numbers\n",
    "dm_x"
   ],
   "metadata": {
    "collapsed": false,
    "pycharm": {
     "name": "#%%\n"
    }
   }
  },
  {
   "cell_type": "code",
   "execution_count": 132,
   "outputs": [
    {
     "data": {
      "text/plain": "array([0, 1, 1, 1, 1, 1, 0, 1, 0, 1, 1, 0, 1, 1, 0, 0, 0, 1, 0, 1, 1, 1,\n       0, 0, 0, 1, 0, 1, 1, 1, 0, 1, 1, 1, 1, 0, 1, 1, 1, 0, 0, 0, 1, 1,\n       0, 1, 1, 1, 1, 0, 0, 0, 0, 1, 1, 0, 1, 1, 1, 1, 0, 0, 0, 0, 1, 0,\n       1, 1, 1, 1, 1, 1, 1, 1, 1, 1, 1, 1, 1, 1, 1, 1, 1, 1, 0, 1, 1, 1,\n       1, 0, 1, 1, 1, 1, 1, 0, 1, 1, 1, 1, 0, 0, 1, 0, 0, 0, 1, 1, 1, 1,\n       1, 1, 1, 0, 1, 0, 1, 0, 0, 1, 1, 1, 1, 1, 0, 0, 1, 1, 0, 1, 0, 1,\n       0, 1, 0, 1, 1, 0, 1, 0, 0, 1, 0, 1, 1, 0, 1, 1, 0, 0, 1, 1, 0, 1,\n       0, 1, 1, 1, 1, 1, 1, 1, 1, 0, 0, 0, 1, 1, 1, 1, 0, 1, 0, 1, 1, 1,\n       0, 1, 1, 1, 1, 1, 1, 1, 1, 1, 0, 1, 1, 1, 0, 1, 1, 1, 1, 0, 0, 1,\n       1, 0, 1, 0, 0, 0, 1, 0, 1, 1, 1, 1, 1, 1, 1, 1, 1, 1, 1, 1, 1, 1,\n       1, 0, 1, 1, 1, 1, 0, 1, 1, 1, 1, 0, 1, 1, 1, 1, 0, 0, 0, 1, 1, 1,\n       1, 0, 0, 1, 1, 1, 1, 1, 0, 1, 1, 1, 0, 1, 1, 0, 1, 1, 1, 1, 1, 0,\n       0, 1, 1, 1, 1, 1, 1, 0, 1, 0, 1, 1, 0, 0, 1, 0, 1, 1, 1, 0, 0, 1,\n       0, 1, 1, 1, 0, 1, 1, 0, 1, 1, 1, 1, 0, 1, 1, 1, 1, 1, 1, 1, 0, 1,\n       1, 0, 0, 0, 1, 1, 0, 1, 1, 1, 0, 0, 0, 0, 1, 0, 1, 0, 0, 1, 1, 1,\n       1, 1, 1, 0, 1, 1, 1, 1, 0, 1, 1, 1, 0, 1, 1, 1, 1, 1, 1, 1, 0, 0,\n       0, 1, 1, 1, 1, 0, 1, 0, 1, 1, 0, 1, 0, 0, 1, 0, 1, 1, 1, 1, 1, 1,\n       1, 1, 1, 1, 1, 0, 0, 1, 0, 1, 1, 0, 1, 1, 1, 0, 1, 1, 1, 1, 1, 1,\n       1, 0, 1, 1, 0, 0, 1, 1, 0, 0, 1, 1, 1, 1, 1, 1, 1, 1, 1, 1, 0, 1,\n       1, 1, 0, 1, 1, 0, 1, 1, 0, 1, 0, 1, 1, 0, 0, 1, 1, 1, 1, 1, 1, 1,\n       1, 0, 1, 0, 0, 0, 1, 1, 0, 0, 1, 1, 1, 1, 0, 1, 0, 0, 1, 1, 0, 1,\n       0, 1, 1, 1, 0, 1, 1, 1, 1, 1, 1, 1, 1, 1, 1, 1, 1, 0])"
     },
     "execution_count": 132,
     "metadata": {},
     "output_type": "execute_result"
    }
   ],
   "source": [
    "label_encoder = LabelEncoder()\n",
    "dm_y = label_encoder.fit_transform(pre_y) # encode the label Y\n",
    "dm_y"
   ],
   "metadata": {
    "collapsed": false,
    "pycharm": {
     "name": "#%%\n"
    }
   }
  },
  {
   "cell_type": "code",
   "execution_count": 133,
   "outputs": [
    {
     "data": {
      "text/plain": "Counter({0: 332, 1: 332})"
     },
     "execution_count": 133,
     "metadata": {},
     "output_type": "execute_result"
    }
   ],
   "source": [
    "smote = SMOTE(sampling_strategy='minority') #use smote technique to bump up our minority class\n",
    "X1, y = smote.fit_resample(dm_x,dm_y) #apply smote on our dataset\n",
    "sc = MinMaxScaler()\n",
    "x= sc.fit_transform(X1) #scale our features values with minmaxscaler to avoid big range between values and cap them between 0 and 1 for more performance to our model\n",
    "joblib.dump(sc, 'scaler.sav')\n",
    "Counter(y) # check if our dataset is balanced now after applying smote"
   ],
   "metadata": {
    "collapsed": false,
    "pycharm": {
     "name": "#%%\n"
    }
   }
  },
  {
   "cell_type": "code",
   "execution_count": 134,
   "outputs": [],
   "source": [
    "X_train, X_test, Y_train, Y_test = train_test_split(x,y,test_size=0.2)"
   ],
   "metadata": {
    "collapsed": false,
    "pycharm": {
     "name": "#%%\n"
    }
   }
  },
  {
   "cell_type": "code",
   "execution_count": 135,
   "outputs": [
    {
     "name": "stdout",
     "output_type": "stream",
     "text": [
      "17/17 [==============================] - 0s 2ms/step - loss: 0.2905 - accuracy: 0.8870\n"
     ]
    },
    {
     "data": {
      "text/plain": "[0.2904943823814392, 0.887005627155304]"
     },
     "execution_count": 135,
     "metadata": {},
     "output_type": "execute_result"
    }
   ],
   "source": [
    "classifier = Sequential()\n",
    "classifier.add(Dense(400, activation=activations.get('relu'), kernel_initializer='random_normal', input_dim=X_test.shape[1]))\n",
    "classifier.add(Dense(200, activation=activations.get('relu'), kernel_initializer='random_normal'))\n",
    "classifier.add(Dense(4, activation=activations.get('relu'), kernel_initializer='random_normal'))\n",
    "classifier.add(Dense(1, activation=activations.get('sigmoid'), kernel_initializer='random_normal'))\n",
    "classifier.compile(optimizer='adam', loss='binary_crossentropy', metrics=['accuracy'])\n",
    "classifier.fit(X_train,Y_train,batch_size=20,epochs=50,verbose=0)# epochs=50 means it will do forward and back propagation 50 times\n",
    "eval_model=classifier.evaluate(X_train,Y_train)\n",
    "eval_model # first value is loss , second value is accuracy"
   ],
   "metadata": {
    "collapsed": false,
    "pycharm": {
     "name": "#%%\n"
    }
   }
  },
  {
   "cell_type": "code",
   "execution_count": 136,
   "outputs": [],
   "source": [
    "#classifier = Sequential(): This creates a new sequential model using the Keras API. The sequential model is a linear stack of layers.\n",
    "\n",
    "#classifier.add(Dense(200, activation='relu', kernel_initializer='random_normal', input_dim=X_test.shape[1])): This adds a fully connected layer (Dense layer) to the model with 200 units/neurons. The activation function used is ReLU (Rectified Linear Unit), and the weights of the layer are initialized using a random normal distribution. The input_dim parameter specifies the input dimension of the layer, which is inferred from the shape of X_test.\n",
    "\n",
    "#classifier.add(Dense(400, activation='relu', kernel_initializer='random_normal')): This adds another fully connected layer with 400 units/neurons to the model. The activation function is ReLU, and the weights are initialized randomly.\n",
    "\n",
    "#classifier.add(Dense(4, activation='relu', kernel_initializer='random_normal')): This adds another fully connected layer with 4 units/neurons and ReLU activation. The weights are initialized randomly.\n",
    "\n",
    "#classifier.add(Dense(1, activation='sigmoid', kernel_initializer='random_normal')): This adds the final output layer with a single unit/neuron, representing the binary classification task. The activation function used is sigmoid, which is suitable for binary classification, and the weights are initialized randomly.\n",
    "\n",
    "#classifier.compile(optimizer='adam', loss='binary_crossentropy', metrics=['accuracy']): This compiles the model. The 'adam' optimizer is used, which is an efficient optimization algorithm commonly used for training neural networks. The loss function is binary_crossentropy, appropriate for binary classification tasks. The metric to be evaluated during training and testing is accuracy.\n",
    "\n",
    "#classifier.fit(X_train, Y_train, batch_size=20, epochs=50, verbose=0): This fits the model to the training data. It trains the model using the provided training data X_train and corresponding labels Y_train. The training is performed for 50 epochs (iterations over the entire dataset), with a batch size of 20. The verbose=0 parameter disables the progress updates during training."
   ],
   "metadata": {
    "collapsed": false,
    "pycharm": {
     "name": "#%%\n"
    }
   }
  },
  {
   "cell_type": "code",
   "execution_count": 137,
   "outputs": [
    {
     "name": "stdout",
     "output_type": "stream",
     "text": [
      "5/5 [==============================] - 0s 2ms/step\n"
     ]
    },
    {
     "data": {
      "text/plain": "array([[8.36247287e-04],\n       [1.56884287e-02],\n       [9.19801652e-01],\n       [9.16525722e-01],\n       [8.05932760e-01],\n       [1.68098649e-03],\n       [1.65023766e-02],\n       [9.26271558e-01],\n       [9.00309086e-01],\n       [8.85502815e-01],\n       [9.33021545e-01],\n       [5.56358844e-02],\n       [9.21039045e-01],\n       [8.99712384e-01],\n       [3.15642974e-04],\n       [7.62121053e-04],\n       [2.54313252e-03],\n       [8.75126898e-01],\n       [9.15682018e-01],\n       [2.79952943e-01],\n       [1.28149167e-01],\n       [9.14520621e-01],\n       [6.84086144e-01],\n       [6.41385540e-02],\n       [5.66675037e-04],\n       [9.22498643e-01],\n       [9.46646392e-01],\n       [3.12026194e-03],\n       [1.73383160e-03],\n       [6.08847197e-03],\n       [1.92123780e-03],\n       [9.06656504e-01],\n       [2.55306577e-03],\n       [8.30259919e-01],\n       [8.50297093e-01],\n       [8.96372676e-01],\n       [1.21829426e-03],\n       [9.31139529e-01],\n       [9.24581170e-01],\n       [7.41765201e-01],\n       [5.20020686e-02],\n       [2.83142173e-04],\n       [3.18036211e-04],\n       [1.68751657e-01],\n       [2.27489951e-03],\n       [1.22099789e-02],\n       [6.67990565e-01],\n       [9.20671999e-01],\n       [5.69505058e-03],\n       [8.01812053e-01],\n       [8.72135103e-01],\n       [7.96107411e-01],\n       [5.58319986e-01],\n       [9.80872428e-05],\n       [6.76249294e-03],\n       [9.32105422e-01],\n       [9.14546132e-01],\n       [9.27443385e-01],\n       [9.17562783e-01],\n       [2.66485993e-04],\n       [8.78418505e-01],\n       [6.01926073e-03],\n       [9.56111729e-01],\n       [5.01353713e-03],\n       [3.58878425e-03],\n       [8.71234775e-01],\n       [1.90806342e-03],\n       [1.11542009e-01],\n       [9.02754664e-01],\n       [2.75056124e-01],\n       [5.22818565e-01],\n       [3.57749115e-04],\n       [5.34248829e-01],\n       [6.67750952e-04],\n       [7.37021089e-01],\n       [1.74236007e-03],\n       [7.99713612e-01],\n       [1.64062940e-02],\n       [8.53396714e-01],\n       [7.59081624e-04],\n       [9.58547235e-01],\n       [5.70640317e-04],\n       [8.18269491e-01],\n       [9.23051834e-01],\n       [8.74605060e-01],\n       [8.39167953e-01],\n       [8.61246765e-01],\n       [8.63482952e-01],\n       [9.20629740e-01],\n       [4.18719184e-03],\n       [7.39444971e-01],\n       [9.21847522e-01],\n       [7.43566900e-02],\n       [8.83120775e-01],\n       [8.54018569e-01],\n       [2.19896678e-02],\n       [4.30627763e-02],\n       [7.89534450e-01],\n       [9.02620018e-01],\n       [9.42687929e-01],\n       [8.70273232e-01],\n       [8.65494311e-02],\n       [7.50433770e-04],\n       [7.90207926e-03],\n       [5.25665004e-04],\n       [1.30981326e-01],\n       [9.00264978e-01],\n       [9.17344511e-01],\n       [1.55784190e-02],\n       [9.25614059e-01],\n       [1.64371729e-02],\n       [9.35845792e-01],\n       [4.63593811e-01],\n       [8.83701083e-04],\n       [9.28661644e-01],\n       [9.74502228e-03],\n       [9.06919777e-01],\n       [6.45324960e-03],\n       [3.27881612e-02],\n       [9.16159749e-01],\n       [8.33642900e-01],\n       [7.48169065e-01],\n       [2.78526068e-01],\n       [9.20403481e-01],\n       [1.31419122e-01],\n       [1.90772975e-04],\n       [1.87307615e-02],\n       [9.24287140e-01],\n       [1.18597625e-02],\n       [2.36566016e-03],\n       [1.69141538e-04],\n       [4.10667781e-06],\n       [9.27614093e-01]], dtype=float32)"
     },
     "execution_count": 137,
     "metadata": {},
     "output_type": "execute_result"
    }
   ],
   "source": [
    "y_pred=classifier.predict(X_test)\n",
    "y_pred #this will predict the probability of being yes or no class using sigmoid function"
   ],
   "metadata": {
    "collapsed": false,
    "pycharm": {
     "name": "#%%\n"
    }
   }
  },
  {
   "cell_type": "code",
   "execution_count": 138,
   "outputs": [
    {
     "data": {
      "text/plain": "array([[False],\n       [False],\n       [ True],\n       [ True],\n       [ True],\n       [False],\n       [False],\n       [ True],\n       [ True],\n       [ True],\n       [ True],\n       [False],\n       [ True],\n       [ True],\n       [False],\n       [False],\n       [False],\n       [ True],\n       [ True],\n       [False],\n       [False],\n       [ True],\n       [ True],\n       [False],\n       [False],\n       [ True],\n       [ True],\n       [False],\n       [False],\n       [False],\n       [False],\n       [ True],\n       [False],\n       [ True],\n       [ True],\n       [ True],\n       [False],\n       [ True],\n       [ True],\n       [ True],\n       [False],\n       [False],\n       [False],\n       [False],\n       [False],\n       [False],\n       [ True],\n       [ True],\n       [False],\n       [ True],\n       [ True],\n       [ True],\n       [ True],\n       [False],\n       [False],\n       [ True],\n       [ True],\n       [ True],\n       [ True],\n       [False],\n       [ True],\n       [False],\n       [ True],\n       [False],\n       [False],\n       [ True],\n       [False],\n       [False],\n       [ True],\n       [False],\n       [False],\n       [False],\n       [ True],\n       [False],\n       [ True],\n       [False],\n       [ True],\n       [False],\n       [ True],\n       [False],\n       [ True],\n       [False],\n       [ True],\n       [ True],\n       [ True],\n       [ True],\n       [ True],\n       [ True],\n       [ True],\n       [False],\n       [ True],\n       [ True],\n       [False],\n       [ True],\n       [ True],\n       [False],\n       [False],\n       [ True],\n       [ True],\n       [ True],\n       [ True],\n       [False],\n       [False],\n       [False],\n       [False],\n       [False],\n       [ True],\n       [ True],\n       [False],\n       [ True],\n       [False],\n       [ True],\n       [False],\n       [False],\n       [ True],\n       [False],\n       [ True],\n       [False],\n       [False],\n       [ True],\n       [ True],\n       [ True],\n       [False],\n       [ True],\n       [False],\n       [False],\n       [False],\n       [ True],\n       [False],\n       [False],\n       [False],\n       [False],\n       [ True]])"
     },
     "execution_count": 138,
     "metadata": {},
     "output_type": "execute_result"
    }
   ],
   "source": [
    "y_pred=(y_pred>0.53) # if the predicted probabilty is higher than 0.5 it will be in yes class if not it will in be in no class , 0.5 is a hyperparameter we can adjust using gready seach and cv\n",
    "y_pred"
   ],
   "metadata": {
    "collapsed": false,
    "pycharm": {
     "name": "#%%\n"
    }
   }
  },
  {
   "cell_type": "code",
   "execution_count": 139,
   "outputs": [
    {
     "data": {
      "text/plain": "<Figure size 640x480 with 2 Axes>",
      "image/png": "[encoded data removed]"
     },
     "metadata": {},
     "output_type": "display_data"
    }
   ],
   "source": [
    "from sklearn.metrics import confusion_matrix\n",
    "cm = confusion_matrix(Y_test,y_pred)\n",
    "ax=plt.subplot()\n",
    "sns.heatmap(cm, annot=True, ax= ax)\n",
    "ax.set_xlabel('Predicted');ax.set_ylabel('Actual');\n",
    "ax.set_title('confusion Matrix')\n",
    "ax.xaxis.set_ticklabels(['No','Yes']);ax.yaxis.set_ticklabels(['No','Yes']);"
   ],
   "metadata": {
    "collapsed": false,
    "pycharm": {
     "name": "#%%\n"
    }
   }
  },
  {
   "cell_type": "code",
   "execution_count": 140,
   "outputs": [
    {
     "name": "stderr",
     "output_type": "stream",
     "text": [
      "WARNING:absl:Found untraced functions such as _update_step_xla while saving (showing 1 of 1). These functions will not be directly callable after loading.\n"
     ]
    },
    {
     "name": "stdout",
     "output_type": "stream",
     "text": [
      "INFO:tensorflow:Assets written to: loan_model\\assets\n"
     ]
    },
    {
     "name": "stderr",
     "output_type": "stream",
     "text": [
      "INFO:tensorflow:Assets written to: loan_model\\assets\n"
     ]
    }
   ],
   "source": [
    "filename='loan_model'\n",
    "classifier.save(filename)\n"
   ],
   "metadata": {
    "collapsed": false,
    "pycharm": {
     "name": "#%%\n"
    }
   }
  },
  {
   "cell_type": "code",
   "execution_count": 141,
   "outputs": [],
   "source": [
    "# Combining X and Y into a new dataframe\n",
    "names=dm_x.columns.tolist()"
   ],
   "metadata": {
    "collapsed": false,
    "pycharm": {
     "name": "#%%\n"
    }
   }
  },
  {
   "cell_type": "code",
   "execution_count": 142,
   "outputs": [],
   "source": [
    "X_df = pd.DataFrame(X_test, columns=names)  # Specify column names for X\n",
    "# Save combined DataFrame to Excel file\n",
    "output_file = 'scaled_loan_data_test.xlsx'\n",
    "X_df.to_excel(output_file, index=False)"
   ],
   "metadata": {
    "collapsed": false,
    "pycharm": {
     "name": "#%%\n"
    }
   }
  },
  {
   "cell_type": "code",
   "execution_count": 142,
   "outputs": [],
   "source": [],
   "metadata": {
    "collapsed": false,
    "pycharm": {
     "name": "#%%\n"
    }
   }
  }
 ],
 "metadata": {
  "kernelspec": {
   "display_name": "Python 3 (ipykernel)",
   "language": "python",
   "name": "python3"
  },
  "language_info": {
   "codemirror_mode": {
    "name": "ipython",
    "version": 3
   },
   "file_extension": ".py",
   "mimetype": "text/x-python",
   "name": "python",
   "nbconvert_exporter": "python",
   "pygments_lexer": "ipython3",
   "version": "3.9.10"
  }
 },
 "nbformat": 4,
 "nbformat_minor": 1
}